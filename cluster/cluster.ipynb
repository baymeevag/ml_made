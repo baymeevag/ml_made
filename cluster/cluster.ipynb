{
 "cells": [
  {
   "cell_type": "code",
   "execution_count": 1,
   "metadata": {},
   "outputs": [],
   "source": [
    "import pandas as pd\n",
    "import numpy as np\n",
    "import json\n",
    "\n",
    "from sklearn.feature_extraction.text import TfidfVectorizer\n",
    "from scipy.sparse import hstack, coo_matrix\n",
    "from sklearn.cluster import MiniBatchKMeans"
   ]
  },
  {
   "cell_type": "code",
   "execution_count": 2,
   "metadata": {},
   "outputs": [],
   "source": [
    "data = []\n",
    "\n",
    "with open('cosmo_content_storage_final_cut.jsonl', 'r', encoding='utf-8') as f:\n",
    "    for line in f:\n",
    "        data.append(json.loads(line.rstrip('\\n|\\r')))"
   ]
  },
  {
   "cell_type": "code",
   "execution_count": 3,
   "metadata": {},
   "outputs": [
    {
     "data": {
      "text/html": [
       "<div>\n",
       "<style scoped>\n",
       "    .dataframe tbody tr th:only-of-type {\n",
       "        vertical-align: middle;\n",
       "    }\n",
       "\n",
       "    .dataframe tbody tr th {\n",
       "        vertical-align: top;\n",
       "    }\n",
       "\n",
       "    .dataframe thead th {\n",
       "        text-align: right;\n",
       "    }\n",
       "</style>\n",
       "<table border=\"1\" class=\"dataframe\">\n",
       "  <thead>\n",
       "    <tr style=\"text-align: right;\">\n",
       "      <th></th>\n",
       "      <th>url</th>\n",
       "      <th>doc_id</th>\n",
       "      <th>description</th>\n",
       "      <th>ts</th>\n",
       "      <th>title</th>\n",
       "    </tr>\n",
       "  </thead>\n",
       "  <tbody>\n",
       "    <tr>\n",
       "      <th>0</th>\n",
       "      <td>https://vz.ru/news/2019/12/6/1012187.html</td>\n",
       "      <td>1000029981939875422</td>\n",
       "      <td>У России есть необходимые конкурентные преимущ...</td>\n",
       "      <td>1575625264</td>\n",
       "      <td>Новак заявил о способности России стать лидеро...</td>\n",
       "    </tr>\n",
       "    <tr>\n",
       "      <th>1</th>\n",
       "      <td>https://meduza.io/news/2019/12/06/sk-otchitals...</td>\n",
       "      <td>1000103932845397396</td>\n",
       "      <td>По делу об убийстве главы ингушского центра «Э...</td>\n",
       "      <td>1575634419</td>\n",
       "      <td>СК отчитался о поимке банды, причастной к убий...</td>\n",
       "    </tr>\n",
       "    <tr>\n",
       "      <th>2</th>\n",
       "      <td>http://www.vestikavkaza.ru/material/283355</td>\n",
       "      <td>1000115462666782749</td>\n",
       "      <td>Президент Азербайджана Ильхам Алиев и первый в...</td>\n",
       "      <td>1575447101</td>\n",
       "      <td>Ильхам Алиев и Мехрибан Алиева посетили выстав...</td>\n",
       "    </tr>\n",
       "    <tr>\n",
       "      <th>3</th>\n",
       "      <td>http://krizis-kopilka.ru/archives/70325</td>\n",
       "      <td>1000129039443894284</td>\n",
       "      <td>Проблемы и вызовы языковой политики анализируе...</td>\n",
       "      <td>1575767444</td>\n",
       "      <td>Язык и идеология</td>\n",
       "    </tr>\n",
       "    <tr>\n",
       "      <th>4</th>\n",
       "      <td>https://radiosputnik.ria.ru/20191203/156189583...</td>\n",
       "      <td>1000131983536261699</td>\n",
       "      <td>Отношения России и Турции не являются альтерна...</td>\n",
       "      <td>1575359865</td>\n",
       "      <td>Эрдоган: отношения Турции с РФ не альтернативн...</td>\n",
       "    </tr>\n",
       "    <tr>\n",
       "      <th>...</th>\n",
       "      <td>...</td>\n",
       "      <td>...</td>\n",
       "      <td>...</td>\n",
       "      <td>...</td>\n",
       "      <td>...</td>\n",
       "    </tr>\n",
       "    <tr>\n",
       "      <th>88363</th>\n",
       "      <td>https://lenta.ru/news/2019/12/05/money/</td>\n",
       "      <td>999910919457925598</td>\n",
       "      <td>Производитель электроники Xiaomi запустил прил...</td>\n",
       "      <td>1575559155</td>\n",
       "      <td>Xiaomi начала выдавать микрокредиты</td>\n",
       "    </tr>\n",
       "    <tr>\n",
       "      <th>88364</th>\n",
       "      <td>https://megaobzor.com/Xbox-One-otlichno-prodal...</td>\n",
       "      <td>999919369677233771</td>\n",
       "      <td>Многие пользователи специально ждут «Черную пя...</td>\n",
       "      <td>1575391338</td>\n",
       "      <td>Xbox One отлично продалась с Черную пятницу</td>\n",
       "    </tr>\n",
       "    <tr>\n",
       "      <th>88365</th>\n",
       "      <td>https://car.ru/news/automobili/59574-kseniyu-b...</td>\n",
       "      <td>999942425463634000</td>\n",
       "      <td>Ксению Бородину раздражают хамы на дорогах</td>\n",
       "      <td>1575543490</td>\n",
       "      <td>Ксению Бородину раздражают хамы на дорогах</td>\n",
       "    </tr>\n",
       "    <tr>\n",
       "      <th>88366</th>\n",
       "      <td>https://www.livesport.ru/football/2019/12/05/m...</td>\n",
       "      <td>99994363695107503</td>\n",
       "      <td>Главный тренер сборной Бельгии поделился мнени...</td>\n",
       "      <td>1575636048</td>\n",
       "      <td>Наставник сборной Бельгии считает Италию фавор...</td>\n",
       "    </tr>\n",
       "    <tr>\n",
       "      <th>88367</th>\n",
       "      <td>http://www.ntv.ru/novosti/2262402/</td>\n",
       "      <td>999992874452850822</td>\n",
       "      <td>Киноцентр «Соловей» в Москве окончательно закр...</td>\n",
       "      <td>1575306944</td>\n",
       "      <td>В московском киноцентре «Соловей» состоялся по...</td>\n",
       "    </tr>\n",
       "  </tbody>\n",
       "</table>\n",
       "<p>88368 rows × 5 columns</p>\n",
       "</div>"
      ],
      "text/plain": [
       "                                                     url               doc_id  \\\n",
       "0              https://vz.ru/news/2019/12/6/1012187.html  1000029981939875422   \n",
       "1      https://meduza.io/news/2019/12/06/sk-otchitals...  1000103932845397396   \n",
       "2             http://www.vestikavkaza.ru/material/283355  1000115462666782749   \n",
       "3                http://krizis-kopilka.ru/archives/70325  1000129039443894284   \n",
       "4      https://radiosputnik.ria.ru/20191203/156189583...  1000131983536261699   \n",
       "...                                                  ...                  ...   \n",
       "88363            https://lenta.ru/news/2019/12/05/money/   999910919457925598   \n",
       "88364  https://megaobzor.com/Xbox-One-otlichno-prodal...   999919369677233771   \n",
       "88365  https://car.ru/news/automobili/59574-kseniyu-b...   999942425463634000   \n",
       "88366  https://www.livesport.ru/football/2019/12/05/m...    99994363695107503   \n",
       "88367                 http://www.ntv.ru/novosti/2262402/   999992874452850822   \n",
       "\n",
       "                                             description          ts  \\\n",
       "0      У России есть необходимые конкурентные преимущ...  1575625264   \n",
       "1      По делу об убийстве главы ингушского центра «Э...  1575634419   \n",
       "2      Президент Азербайджана Ильхам Алиев и первый в...  1575447101   \n",
       "3      Проблемы и вызовы языковой политики анализируе...  1575767444   \n",
       "4      Отношения России и Турции не являются альтерна...  1575359865   \n",
       "...                                                  ...         ...   \n",
       "88363  Производитель электроники Xiaomi запустил прил...  1575559155   \n",
       "88364  Многие пользователи специально ждут «Черную пя...  1575391338   \n",
       "88365         Ксению Бородину раздражают хамы на дорогах  1575543490   \n",
       "88366  Главный тренер сборной Бельгии поделился мнени...  1575636048   \n",
       "88367  Киноцентр «Соловей» в Москве окончательно закр...  1575306944   \n",
       "\n",
       "                                                   title  \n",
       "0      Новак заявил о способности России стать лидеро...  \n",
       "1      СК отчитался о поимке банды, причастной к убий...  \n",
       "2      Ильхам Алиев и Мехрибан Алиева посетили выстав...  \n",
       "3                                       Язык и идеология  \n",
       "4      Эрдоган: отношения Турции с РФ не альтернативн...  \n",
       "...                                                  ...  \n",
       "88363                Xiaomi начала выдавать микрокредиты  \n",
       "88364        Xbox One отлично продалась с Черную пятницу  \n",
       "88365         Ксению Бородину раздражают хамы на дорогах  \n",
       "88366  Наставник сборной Бельгии считает Италию фавор...  \n",
       "88367  В московском киноцентре «Соловей» состоялся по...  \n",
       "\n",
       "[88368 rows x 5 columns]"
      ]
     },
     "execution_count": 3,
     "metadata": {},
     "output_type": "execute_result"
    }
   ],
   "source": [
    "df = pd.DataFrame.from_records(data)\n",
    "df"
   ]
  },
  {
   "cell_type": "code",
   "execution_count": 4,
   "metadata": {},
   "outputs": [],
   "source": [
    "tfidf = TfidfVectorizer()\n",
    "description = tfidf.fit_transform(df[\"description\"].fillna(\"\"))\n",
    "title = tfidf.fit_transform(df[\"title\"].fillna(\"\"))\n",
    "url = tfidf.fit_transform(df[\"url\"].fillna(\"\"))"
   ]
  },
  {
   "cell_type": "code",
   "execution_count": 5,
   "metadata": {},
   "outputs": [],
   "source": [
    "train = hstack([description, title, url, coo_matrix(df['ts'].values).T])"
   ]
  },
  {
   "cell_type": "code",
   "execution_count": 56,
   "metadata": {},
   "outputs": [],
   "source": [
    "km = MiniBatchKMeans(n_clusters=3000, init='k-means++', n_init=1,\n",
    "                         init_size=1000, batch_size=1000)"
   ]
  },
  {
   "cell_type": "code",
   "execution_count": 57,
   "metadata": {},
   "outputs": [
    {
     "name": "stderr",
     "output_type": "stream",
     "text": [
      "/home/gb/made/made/lib/python3.6/site-packages/sklearn/cluster/k_means_.py:1561: RuntimeWarning: init_size=1000 should be larger than k=3000. Setting it to 3*k\n",
      "  init_size=init_size)\n"
     ]
    },
    {
     "data": {
      "text/plain": [
       "MiniBatchKMeans(batch_size=1000, compute_labels=True, init='k-means++',\n",
       "                init_size=1000, max_iter=100, max_no_improvement=10,\n",
       "                n_clusters=3000, n_init=1, random_state=None,\n",
       "                reassignment_ratio=0.01, tol=0.0, verbose=0)"
      ]
     },
     "execution_count": 57,
     "metadata": {},
     "output_type": "execute_result"
    }
   ],
   "source": [
    "km.fit(train)"
   ]
  },
  {
   "cell_type": "code",
   "execution_count": 58,
   "metadata": {},
   "outputs": [],
   "source": [
    "answer = pd.DataFrame(columns=['doc_id', 'cat'])\n",
    "answer['doc_id'] = df['doc_id']\n",
    "answer['cat'] = km.predict(train)"
   ]
  },
  {
   "cell_type": "code",
   "execution_count": 59,
   "metadata": {},
   "outputs": [],
   "source": [
    "cluster = pd.read_json('cluster_final_cut_train.json', typ='series')"
   ]
  },
  {
   "cell_type": "code",
   "execution_count": 60,
   "metadata": {},
   "outputs": [],
   "source": [
    "cluster.index = cluster.index.astype(int)"
   ]
  },
  {
   "cell_type": "code",
   "execution_count": 61,
   "metadata": {},
   "outputs": [],
   "source": [
    "answer.loc[~(answer['doc_id'].isin(cluster.index))].dropna(how='all').to_csv('sub.txt', header=True, index=False)"
   ]
  },
  {
   "cell_type": "code",
   "execution_count": 62,
   "metadata": {},
   "outputs": [
    {
     "data": {
      "text/plain": [
       "8436846726673829479     516\n",
       "4596566925810077827    2054\n",
       "5624584102393981667     328\n",
       "267057939486240219     2133\n",
       "3318162853060722078    2266\n",
       "                       ... \n",
       "2441688416900780817    2690\n",
       "4025509225831026607     856\n",
       "5544787745191406164    3036\n",
       "6430542681857951713     962\n",
       "7498798123207436785     395\n",
       "Length: 26510, dtype: int64"
      ]
     },
     "execution_count": 62,
     "metadata": {},
     "output_type": "execute_result"
    }
   ],
   "source": [
    "cluster"
   ]
  },
  {
   "cell_type": "code",
   "execution_count": 63,
   "metadata": {},
   "outputs": [
    {
     "data": {
      "text/html": [
       "<div>\n",
       "<style scoped>\n",
       "    .dataframe tbody tr th:only-of-type {\n",
       "        vertical-align: middle;\n",
       "    }\n",
       "\n",
       "    .dataframe tbody tr th {\n",
       "        vertical-align: top;\n",
       "    }\n",
       "\n",
       "    .dataframe thead th {\n",
       "        text-align: right;\n",
       "    }\n",
       "</style>\n",
       "<table border=\"1\" class=\"dataframe\">\n",
       "  <thead>\n",
       "    <tr style=\"text-align: right;\">\n",
       "      <th></th>\n",
       "      <th>doc_id</th>\n",
       "      <th>cat</th>\n",
       "    </tr>\n",
       "  </thead>\n",
       "  <tbody>\n",
       "    <tr>\n",
       "      <th>3</th>\n",
       "      <td>1000129039443894284</td>\n",
       "      <td>2547</td>\n",
       "    </tr>\n",
       "    <tr>\n",
       "      <th>4</th>\n",
       "      <td>1000131983536261699</td>\n",
       "      <td>714</td>\n",
       "    </tr>\n",
       "    <tr>\n",
       "      <th>7</th>\n",
       "      <td>1000369819866877640</td>\n",
       "      <td>24</td>\n",
       "    </tr>\n",
       "    <tr>\n",
       "      <th>8</th>\n",
       "      <td>1000376594041833717</td>\n",
       "      <td>1711</td>\n",
       "    </tr>\n",
       "    <tr>\n",
       "      <th>9</th>\n",
       "      <td>1000567670258318930</td>\n",
       "      <td>1705</td>\n",
       "    </tr>\n",
       "    <tr>\n",
       "      <th>...</th>\n",
       "      <td>...</td>\n",
       "      <td>...</td>\n",
       "    </tr>\n",
       "    <tr>\n",
       "      <th>88347</th>\n",
       "      <td>998388923536420373</td>\n",
       "      <td>2203</td>\n",
       "    </tr>\n",
       "    <tr>\n",
       "      <th>88353</th>\n",
       "      <td>998760668593746561</td>\n",
       "      <td>1654</td>\n",
       "    </tr>\n",
       "    <tr>\n",
       "      <th>88358</th>\n",
       "      <td>999406325296585876</td>\n",
       "      <td>2171</td>\n",
       "    </tr>\n",
       "    <tr>\n",
       "      <th>88362</th>\n",
       "      <td>999909502498232052</td>\n",
       "      <td>790</td>\n",
       "    </tr>\n",
       "    <tr>\n",
       "      <th>88366</th>\n",
       "      <td>99994363695107503</td>\n",
       "      <td>1785</td>\n",
       "    </tr>\n",
       "  </tbody>\n",
       "</table>\n",
       "<p>26510 rows × 2 columns</p>\n",
       "</div>"
      ],
      "text/plain": [
       "                    doc_id   cat\n",
       "3      1000129039443894284  2547\n",
       "4      1000131983536261699   714\n",
       "7      1000369819866877640    24\n",
       "8      1000376594041833717  1711\n",
       "9      1000567670258318930  1705\n",
       "...                    ...   ...\n",
       "88347   998388923536420373  2203\n",
       "88353   998760668593746561  1654\n",
       "88358   999406325296585876  2171\n",
       "88362   999909502498232052   790\n",
       "88366    99994363695107503  1785\n",
       "\n",
       "[26510 rows x 2 columns]"
      ]
     },
     "execution_count": 63,
     "metadata": {},
     "output_type": "execute_result"
    }
   ],
   "source": [
    "answer.loc[(answer['doc_id'].isin(cluster.index))].dropna(how='all')"
   ]
  },
  {
   "cell_type": "code",
   "execution_count": 64,
   "metadata": {},
   "outputs": [],
   "source": [
    "cluster = cluster.reset_index(0).rename(columns={'index' : 'doc_id'})"
   ]
  },
  {
   "cell_type": "code",
   "execution_count": 65,
   "metadata": {},
   "outputs": [
    {
     "data": {
      "text/plain": [
       "cat   0     \n",
       "0     38.0                           [3232290667042315565]\n",
       "      42.0      [1345866204491910867, 4867128903165914464]\n",
       "      166.0                          [6789625144217761353]\n",
       "      167.0                          [9198679327863849365]\n",
       "      205.0     [1974170443910103237, 4098887186882959297]\n",
       "                                   ...                    \n",
       "2998  2557.0                         [8200218442482348237]\n",
       "      2789.0                          [950568778691917378]\n",
       "2999  96.0                           [7510399335969511898]\n",
       "      362.0                          [6979664996965258792]\n",
       "      859.0                          [8277663763494336310]\n",
       "Name: doc_id, Length: 24877, dtype: object"
      ]
     },
     "execution_count": 65,
     "metadata": {},
     "output_type": "execute_result"
    }
   ],
   "source": [
    "answer.merge(cluster, on=['doc_id'], how='left').groupby(['cat', 0])['doc_id'].apply(list)"
   ]
  },
  {
   "cell_type": "code",
   "execution_count": null,
   "metadata": {},
   "outputs": [],
   "source": []
  },
  {
   "cell_type": "code",
   "execution_count": null,
   "metadata": {},
   "outputs": [],
   "source": []
  }
 ],
 "metadata": {
  "kernelspec": {
   "display_name": "Python 3",
   "language": "python",
   "name": "python3"
  },
  "language_info": {
   "codemirror_mode": {
    "name": "ipython",
    "version": 3
   },
   "file_extension": ".py",
   "mimetype": "text/x-python",
   "name": "python",
   "nbconvert_exporter": "python",
   "pygments_lexer": "ipython3",
   "version": "3.6.8"
  }
 },
 "nbformat": 4,
 "nbformat_minor": 4
}
