{
 "cells": [
  {
   "cell_type": "code",
   "execution_count": 11,
   "metadata": {},
   "outputs": [],
   "source": [
    "import pandas as pd\n",
    "import numpy as np\n",
    "import json\n",
    "\n",
    "from sklearn.feature_extraction.text import TfidfVectorizer\n",
    "from scipy.sparse import hstack, coo_matrix\n",
    "from sklearn.cluster import MiniBatchKMeans"
   ]
  },
  {
   "cell_type": "code",
   "execution_count": 12,
   "metadata": {},
   "outputs": [],
   "source": [
    "data = []\n",
    "\n",
    "with open('cosmo_content_storage_final_cut.jsonl', 'r', encoding='utf-8') as f:\n",
    "    for line in f:\n",
    "        data.append(json.loads(line.rstrip('\\n|\\r')))"
   ]
  },
  {
   "cell_type": "code",
   "execution_count": 32,
   "metadata": {},
   "outputs": [
    {
     "data": {
      "text/html": [
       "<div>\n",
       "<style scoped>\n",
       "    .dataframe tbody tr th:only-of-type {\n",
       "        vertical-align: middle;\n",
       "    }\n",
       "\n",
       "    .dataframe tbody tr th {\n",
       "        vertical-align: top;\n",
       "    }\n",
       "\n",
       "    .dataframe thead th {\n",
       "        text-align: right;\n",
       "    }\n",
       "</style>\n",
       "<table border=\"1\" class=\"dataframe\">\n",
       "  <thead>\n",
       "    <tr style=\"text-align: right;\">\n",
       "      <th></th>\n",
       "      <th>url</th>\n",
       "      <th>doc_id</th>\n",
       "      <th>description</th>\n",
       "      <th>ts</th>\n",
       "      <th>title</th>\n",
       "    </tr>\n",
       "  </thead>\n",
       "  <tbody>\n",
       "    <tr>\n",
       "      <th>0</th>\n",
       "      <td>https://vz.ru/news/2019/12/6/1012187.html</td>\n",
       "      <td>1000029981939875422</td>\n",
       "      <td>У России есть необходимые конкурентные преимущ...</td>\n",
       "      <td>1575625264</td>\n",
       "      <td>Новак заявил о способности России стать лидеро...</td>\n",
       "    </tr>\n",
       "    <tr>\n",
       "      <th>1</th>\n",
       "      <td>https://meduza.io/news/2019/12/06/sk-otchitals...</td>\n",
       "      <td>1000103932845397396</td>\n",
       "      <td>По делу об убийстве главы ингушского центра «Э...</td>\n",
       "      <td>1575634419</td>\n",
       "      <td>СК отчитался о поимке банды, причастной к убий...</td>\n",
       "    </tr>\n",
       "    <tr>\n",
       "      <th>2</th>\n",
       "      <td>http://www.vestikavkaza.ru/material/283355</td>\n",
       "      <td>1000115462666782749</td>\n",
       "      <td>Президент Азербайджана Ильхам Алиев и первый в...</td>\n",
       "      <td>1575447101</td>\n",
       "      <td>Ильхам Алиев и Мехрибан Алиева посетили выстав...</td>\n",
       "    </tr>\n",
       "    <tr>\n",
       "      <th>3</th>\n",
       "      <td>http://krizis-kopilka.ru/archives/70325</td>\n",
       "      <td>1000129039443894284</td>\n",
       "      <td>Проблемы и вызовы языковой политики анализируе...</td>\n",
       "      <td>1575767444</td>\n",
       "      <td>Язык и идеология</td>\n",
       "    </tr>\n",
       "    <tr>\n",
       "      <th>4</th>\n",
       "      <td>https://radiosputnik.ria.ru/20191203/156189583...</td>\n",
       "      <td>1000131983536261699</td>\n",
       "      <td>Отношения России и Турции не являются альтерна...</td>\n",
       "      <td>1575359865</td>\n",
       "      <td>Эрдоган: отношения Турции с РФ не альтернативн...</td>\n",
       "    </tr>\n",
       "    <tr>\n",
       "      <th>...</th>\n",
       "      <td>...</td>\n",
       "      <td>...</td>\n",
       "      <td>...</td>\n",
       "      <td>...</td>\n",
       "      <td>...</td>\n",
       "    </tr>\n",
       "    <tr>\n",
       "      <th>88363</th>\n",
       "      <td>https://lenta.ru/news/2019/12/05/money/</td>\n",
       "      <td>999910919457925598</td>\n",
       "      <td>Производитель электроники Xiaomi запустил прил...</td>\n",
       "      <td>1575559155</td>\n",
       "      <td>Xiaomi начала выдавать микрокредиты</td>\n",
       "    </tr>\n",
       "    <tr>\n",
       "      <th>88364</th>\n",
       "      <td>https://megaobzor.com/Xbox-One-otlichno-prodal...</td>\n",
       "      <td>999919369677233771</td>\n",
       "      <td>Многие пользователи специально ждут «Черную пя...</td>\n",
       "      <td>1575391338</td>\n",
       "      <td>Xbox One отлично продалась с Черную пятницу</td>\n",
       "    </tr>\n",
       "    <tr>\n",
       "      <th>88365</th>\n",
       "      <td>https://car.ru/news/automobili/59574-kseniyu-b...</td>\n",
       "      <td>999942425463634000</td>\n",
       "      <td>Ксению Бородину раздражают хамы на дорогах</td>\n",
       "      <td>1575543490</td>\n",
       "      <td>Ксению Бородину раздражают хамы на дорогах</td>\n",
       "    </tr>\n",
       "    <tr>\n",
       "      <th>88366</th>\n",
       "      <td>https://www.livesport.ru/football/2019/12/05/m...</td>\n",
       "      <td>99994363695107503</td>\n",
       "      <td>Главный тренер сборной Бельгии поделился мнени...</td>\n",
       "      <td>1575636048</td>\n",
       "      <td>Наставник сборной Бельгии считает Италию фавор...</td>\n",
       "    </tr>\n",
       "    <tr>\n",
       "      <th>88367</th>\n",
       "      <td>http://www.ntv.ru/novosti/2262402/</td>\n",
       "      <td>999992874452850822</td>\n",
       "      <td>Киноцентр «Соловей» в Москве окончательно закр...</td>\n",
       "      <td>1575306944</td>\n",
       "      <td>В московском киноцентре «Соловей» состоялся по...</td>\n",
       "    </tr>\n",
       "  </tbody>\n",
       "</table>\n",
       "<p>88368 rows × 5 columns</p>\n",
       "</div>"
      ],
      "text/plain": [
       "                                                     url               doc_id  \\\n",
       "0              https://vz.ru/news/2019/12/6/1012187.html  1000029981939875422   \n",
       "1      https://meduza.io/news/2019/12/06/sk-otchitals...  1000103932845397396   \n",
       "2             http://www.vestikavkaza.ru/material/283355  1000115462666782749   \n",
       "3                http://krizis-kopilka.ru/archives/70325  1000129039443894284   \n",
       "4      https://radiosputnik.ria.ru/20191203/156189583...  1000131983536261699   \n",
       "...                                                  ...                  ...   \n",
       "88363            https://lenta.ru/news/2019/12/05/money/   999910919457925598   \n",
       "88364  https://megaobzor.com/Xbox-One-otlichno-prodal...   999919369677233771   \n",
       "88365  https://car.ru/news/automobili/59574-kseniyu-b...   999942425463634000   \n",
       "88366  https://www.livesport.ru/football/2019/12/05/m...    99994363695107503   \n",
       "88367                 http://www.ntv.ru/novosti/2262402/   999992874452850822   \n",
       "\n",
       "                                             description          ts  \\\n",
       "0      У России есть необходимые конкурентные преимущ...  1575625264   \n",
       "1      По делу об убийстве главы ингушского центра «Э...  1575634419   \n",
       "2      Президент Азербайджана Ильхам Алиев и первый в...  1575447101   \n",
       "3      Проблемы и вызовы языковой политики анализируе...  1575767444   \n",
       "4      Отношения России и Турции не являются альтерна...  1575359865   \n",
       "...                                                  ...         ...   \n",
       "88363  Производитель электроники Xiaomi запустил прил...  1575559155   \n",
       "88364  Многие пользователи специально ждут «Черную пя...  1575391338   \n",
       "88365         Ксению Бородину раздражают хамы на дорогах  1575543490   \n",
       "88366  Главный тренер сборной Бельгии поделился мнени...  1575636048   \n",
       "88367  Киноцентр «Соловей» в Москве окончательно закр...  1575306944   \n",
       "\n",
       "                                                   title  \n",
       "0      Новак заявил о способности России стать лидеро...  \n",
       "1      СК отчитался о поимке банды, причастной к убий...  \n",
       "2      Ильхам Алиев и Мехрибан Алиева посетили выстав...  \n",
       "3                                       Язык и идеология  \n",
       "4      Эрдоган: отношения Турции с РФ не альтернативн...  \n",
       "...                                                  ...  \n",
       "88363                Xiaomi начала выдавать микрокредиты  \n",
       "88364        Xbox One отлично продалась с Черную пятницу  \n",
       "88365         Ксению Бородину раздражают хамы на дорогах  \n",
       "88366  Наставник сборной Бельгии считает Италию фавор...  \n",
       "88367  В московском киноцентре «Соловей» состоялся по...  \n",
       "\n",
       "[88368 rows x 5 columns]"
      ]
     },
     "execution_count": 32,
     "metadata": {},
     "output_type": "execute_result"
    }
   ],
   "source": [
    "df = pd.DataFrame.from_records(data)\n",
    "df"
   ]
  },
  {
   "cell_type": "code",
   "execution_count": 14,
   "metadata": {},
   "outputs": [],
   "source": [
    "tfidf = TfidfVectorizer()\n",
    "description = tfidf.fit_transform(df[\"description\"].fillna(\"\"))\n",
    "title = tfidf.fit_transform(df[\"title\"].fillna(\"\"))\n",
    "url = tfidf.fit_transform(df[\"url\"].fillna(\"\"))"
   ]
  },
  {
   "cell_type": "code",
   "execution_count": 15,
   "metadata": {},
   "outputs": [],
   "source": [
    "train = hstack([description, title, url, coo_matrix(df['ts'].values).T])"
   ]
  },
  {
   "cell_type": "code",
   "execution_count": 18,
   "metadata": {},
   "outputs": [],
   "source": [
    "km = MiniBatchKMeans(n_clusters=300, init='k-means++', n_init=1,\n",
    "                         init_size=1000, batch_size=1000)"
   ]
  },
  {
   "cell_type": "code",
   "execution_count": 19,
   "metadata": {},
   "outputs": [
    {
     "data": {
      "text/plain": [
       "MiniBatchKMeans(batch_size=1000, compute_labels=True, init='k-means++',\n",
       "                init_size=1000, max_iter=100, max_no_improvement=10,\n",
       "                n_clusters=300, n_init=1, random_state=None,\n",
       "                reassignment_ratio=0.01, tol=0.0, verbose=0)"
      ]
     },
     "execution_count": 19,
     "metadata": {},
     "output_type": "execute_result"
    }
   ],
   "source": [
    "km.fit(train)"
   ]
  },
  {
   "cell_type": "code",
   "execution_count": 28,
   "metadata": {},
   "outputs": [
    {
     "data": {
      "text/plain": [
       "(88368, 5)"
      ]
     },
     "execution_count": 28,
     "metadata": {},
     "output_type": "execute_result"
    }
   ],
   "source": [
    "df.shape"
   ]
  },
  {
   "cell_type": "code",
   "execution_count": 29,
   "metadata": {},
   "outputs": [
    {
     "data": {
      "text/plain": [
       "(88368,)"
      ]
     },
     "execution_count": 29,
     "metadata": {},
     "output_type": "execute_result"
    }
   ],
   "source": [
    "km.predict(train).shape"
   ]
  },
  {
   "cell_type": "code",
   "execution_count": 33,
   "metadata": {},
   "outputs": [],
   "source": [
    "answer = pd.DataFrame(columns=['doc_id', 'cat'])\n",
    "answer['doc_id'] = df['doc_id']\n",
    "answer['cat'] = km.predict(train)"
   ]
  },
  {
   "cell_type": "code",
   "execution_count": 34,
   "metadata": {},
   "outputs": [],
   "source": [
    "answer.to_csv('sub.txt', header=True, index=False)"
   ]
  },
  {
   "cell_type": "code",
   "execution_count": null,
   "metadata": {},
   "outputs": [],
   "source": []
  }
 ],
 "metadata": {
  "kernelspec": {
   "display_name": "Python 3",
   "language": "python",
   "name": "python3"
  },
  "language_info": {
   "codemirror_mode": {
    "name": "ipython",
    "version": 3
   },
   "file_extension": ".py",
   "mimetype": "text/x-python",
   "name": "python",
   "nbconvert_exporter": "python",
   "pygments_lexer": "ipython3",
   "version": "3.6.8"
  }
 },
 "nbformat": 4,
 "nbformat_minor": 4
}
